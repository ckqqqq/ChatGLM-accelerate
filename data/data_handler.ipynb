{
 "cells": [
  {
   "cell_type": "code",
   "execution_count": 2,
   "metadata": {},
   "outputs": [
    {
     "name": "stdout",
     "output_type": "stream",
     "text": [
      "[1, 2, 3, 4, 5, 6, 7, 8, 9, 10, 11, 12, 13, 14, 15, 16, 17, 18, 19, 20, 21, 22, 23, 24, 25, 26, 27, 28, 29, 30, 31, 33, 34, 38, 44]\n",
      "1 626\n",
      "2 9167\n",
      "3 12695\n",
      "4 6850\n",
      "5 6090\n",
      "6 5522\n",
      "7 4073\n",
      "8 2713\n",
      "9 1622\n",
      "10 888\n",
      "11 534\n",
      "12 334\n",
      "13 271\n",
      "14 144\n",
      "15 131\n",
      "16 85\n",
      "17 53\n",
      "18 42\n",
      "19 32\n",
      "20 28\n",
      "21 19\n",
      "22 18\n",
      "23 16\n",
      "24 18\n",
      "25 6\n",
      "26 3\n",
      "27 7\n",
      "28 3\n",
      "29 2\n",
      "30 2\n",
      "31 2\n",
      "33 1\n",
      "34 1\n",
      "38 2\n",
      "44 2\n"
     ]
    }
   ],
   "source": [
    "import json\n",
    "EOS_ID = 150005\n",
    "# MAX_LENGTH=900\n",
    "PROMPT_DICT = {\n",
    "    \"prompt_input\": (\n",
    "        \"Below is an instruction that describes a task, paired with an input that provides further context. \"\n",
    "        \"Write a response that appropriately completes the request.\\n\\n\"\n",
    "        \"### Instruction:\\n{instruction}\\n\\n### Input:\\n{input}\\n\\n### Response:\"\n",
    "    ),\n",
    "    \"prompt_no_input\": (\n",
    "        \"Below is an instruction that describes a task. \"\n",
    "        \"Write a response that appropriately completes the request.\\n\\n\"\n",
    "        \"### Instruction:\\n{instruction}\\n\\n### Response:\"\n",
    "    ),\n",
    "}\n",
    "\n",
    "with open('./alpaca_data.json', 'r') as f:\n",
    "    content = json.load(f)\n",
    "\n",
    "\n",
    "pairs = []\n",
    "ans={}\n",
    "for idx,line in enumerate(content):\n",
    "    if line['input'] == '':\n",
    "        prompt = PROMPT_DICT['prompt_no_input'].format_map(line)\n",
    "    else:\n",
    "        prompt = PROMPT_DICT['prompt_input'].format_map(line)\n",
    "    completion = line['output']+'</s>'\n",
    "    combine_len=(len(prompt) + len(completion))//100\n",
    "    if combine_len not in ans:\n",
    "        ans[combine_len]=1\n",
    "    else:\n",
    "        ans[combine_len]=1+ans[combine_len]\n",
    "    #    print(idx,line)\n",
    "\n",
    "print(sorted(list(ans.keys())))\n",
    "for key in sorted(list(ans.keys())):\n",
    "    print(key,ans[key])\n",
    "    # # pairs.append({'prompt':prompt, 'completion':completion})\n"
   ]
  },
  {
   "cell_type": "code",
   "execution_count": 8,
   "metadata": {},
   "outputs": [
    {
     "name": "stdout",
     "output_type": "stream",
     "text": [
      "0 input \n",
      "0 instruction Give three tips for staying healthy.\n",
      "0 output :\n",
      " 1.Eat a balanced diet and make sure to include plenty of fruits and vegetables. \n",
      "2. Exercise regularly to keep your body active and strong. \n",
      "3. Get enough sleep and maintain a consistent sleep schedule.\n",
      "1 input \n",
      "1 instruction What are the three primary colors?\n",
      "1 output :\n",
      " The three primary colors are red, blue, and yellow.\n",
      "2 input \n",
      "2 instruction Describe the structure of an atom.\n",
      "2 output :\n",
      " An atom is made up of a nucleus, which contains protons and neutrons, surrounded by electrons that travel in orbits around the nucleus. The protons and neutrons have a positive charge, while the electrons have a negative charge, resulting in an overall neutral atom. The number of each particle determines the atomic number and the type of atom.\n",
      "3 input \n",
      "3 instruction How can we reduce air pollution?\n",
      "3 output :\n",
      " There are a number of ways to reduce air pollution, such as shifting to renewable energy sources, encouraging the use of public transportation, prohibiting the burning of fossil fuels, implementing policies to reduce emissions from industrial sources, and implementing vehicle emissions standards. Additionally, individuals can do their part to reduce air pollution by reducing car use, avoiding burning materials such as wood, and changing to energy efficient appliances.\n",
      "4 input \n",
      "4 instruction Describe a time when you had to make a difficult decision.\n",
      "4 output :\n",
      " I had to make a difficult decision when I was working as a project manager at a construction company. I was in charge of a project that needed to be completed by a certain date in order to meet the client’s expectations. However, due to unexpected delays, we were not able to meet the deadline and so I had to make a difficult decision. I decided to extend the deadline, but I had to stretch the team’s resources even further and increase the budget. Although it was a risky decision, I ultimately decided to go ahead with it to ensure that the project was completed on time and that the client’s expectations were met. The project was eventually successfully completed and this was seen as a testament to my leadership and decision-making abilities.\n",
      "5 input Twitter, Instagram, Telegram\n",
      "5 instruction Identify the odd one out.\n",
      "5 output :\n",
      " Telegram\n",
      "6 input 4/16\n",
      "6 instruction Explain why the following fraction is equivalent to 1/4\n",
      "6 output :\n",
      " The fraction 4/16 is equivalent to 1/4 because both numerators and denominators are divisible by 4. Dividing both the top and bottom numbers by 4 yields the fraction 1/4.\n",
      "7 input \n",
      "7 instruction Write a short story in third person narration about a protagonist who has to make an important career decision.\n",
      "7 output :\n",
      " John was at a crossroads in his life. He had just graduated college and was now facing the big decision of what career to pursue. After much deliberation, he decided that he wanted to be an accountant and help the financially disadvantaged. He had always been good with numbers and enjoyed seeing the tangible results of his work. \n",
      "\n",
      "John enrolled in accounting courses and initially found it quite challenging. He had to learn multiple systems and regulations quickly, but he worked hard and eventually excelled in his studies. After a few years, John started working at an accounting firm in his city. He was eager to put his knowledge of taxes and accounting to use in a real-world setting.\n",
      "\n",
      "John loved his job, as it let him express his creativity in finding strategies to save his clients money. After a few years at the firm, he became a senior accountant and was asked to manage bigger and more challenging cases. He was now a respected figure in the financial industry, but he still remembers when he was just a recent college graduate, unsure of the direction in which his life would take him.\n",
      "8 input \n",
      "8 instruction Render a 3D model of a house\n",
      "8 output :\n",
      " <nooutput> This type of instruction cannot be fulfilled by a GPT model.\n",
      "9 input He finnished his meal and left the resturant\n",
      "9 instruction Evaluate this sentence for spelling and grammar mistakes\n",
      "9 output :\n",
      " He finished his meal and left the restaurant.\n"
     ]
    }
   ],
   "source": [
    "for idx,line in enumerate(content[:10]):\n",
    "    print(idx,f\"input {line['input']}\")\n",
    "    print(idx,f\"instruction {line['instruction']}\")\n",
    "    print(idx,f\"output :\\n {line['output']}\")"
   ]
  }
 ],
 "metadata": {
  "kernelspec": {
   "display_name": "ckqpy38",
   "language": "python",
   "name": "python3"
  },
  "language_info": {
   "codemirror_mode": {
    "name": "ipython",
    "version": 3
   },
   "file_extension": ".py",
   "mimetype": "text/x-python",
   "name": "python",
   "nbconvert_exporter": "python",
   "pygments_lexer": "ipython3",
   "version": "3.8.16"
  },
  "orig_nbformat": 4,
  "vscode": {
   "interpreter": {
    "hash": "3d8bdb44f3e9a5714bc2974b8edd400dea31ee2ae63ed4830807e434c750c669"
   }
  }
 },
 "nbformat": 4,
 "nbformat_minor": 2
}
